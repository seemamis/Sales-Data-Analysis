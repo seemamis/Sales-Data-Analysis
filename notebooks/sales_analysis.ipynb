{
 "cells": [
  {
   "cell_type": "markdown",
   "id": "a95597c5",
   "metadata": {},
   "source": [
    "# 📊 Sales Data Analysis - Starter Notebook\n",
    "This notebook demonstrates basic data loading, exploration, and visualization for the **sample sales dataset**."
   ]
  },
  {
   "cell_type": "code",
   "execution_count": null,
   "id": "4042a506",
   "metadata": {},
   "outputs": [],
   "source": [
    "\n",
    "# Import libraries\n",
    "import pandas as pd\n",
    "import matplotlib.pyplot as plt\n",
    "\n",
    "# Load data\n",
    "data = pd.read_csv(\"../data/sample_sales_data.csv\")\n",
    "\n",
    "# Preview data\n",
    "print(\"🔹 First 5 rows:\")\n",
    "print(data.head())\n",
    "\n",
    "print(\"\\n🔹 Dataset Info:\")\n",
    "print(data.info())\n",
    "\n",
    "print(\"\\n🔹 Summary Statistics:\")\n",
    "print(data.describe())\n"
   ]
  },
  {
   "cell_type": "code",
   "execution_count": null,
   "id": "953ad528",
   "metadata": {},
   "outputs": [],
   "source": [
    "\n",
    "# Simple Visualization: Sales count by Region\n",
    "\n",
    "if 'Region' in data.columns:\n",
    "    data['Region'].value_counts().plot(kind='bar', figsize=(6,4))\n",
    "    plt.title(\"Sales Count by Region\")\n",
    "    plt.xlabel(\"Region\")\n",
    "    plt.ylabel(\"Count\")\n",
    "    plt.show()\n",
    "else:\n",
    "    print(\"⚠️ 'Region' column not found in dataset.\")\n"
   ]
  }
 ],
 "metadata": {},
 "nbformat": 4,
 "nbformat_minor": 5
}